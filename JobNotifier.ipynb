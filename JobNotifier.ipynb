{
 "cells": [
  {
   "cell_type": "markdown",
   "metadata": {},
   "source": [
    "# Campus Job Notifier"
   ]
  },
  {
   "cell_type": "markdown",
   "metadata": {},
   "source": [
    "Most people don’t know when the new jobs  will post in our student employment website. So people, who are looking for jobs on the campus  they need to check the website regularly. The objective of this application  is to reduce this work and automate tasks and send  a notification to the user about jobs."
   ]
  },
  {
   "cell_type": "markdown",
   "metadata": {},
   "source": [
    "## Procedure\n",
    "1. Web Scrape university student opportunities website to get the jobs list and html links to get the detailed information on each job.\n",
    "2. Compare the present job details with previous job details and get the details of the  new job.\n",
    "3. Automatically generate the Pie chart by using the present job details list.\n",
    "4. Send Notifications to their Emails about new jobs posted in the campus student employment website. \n"
   ]
  },
  {
   "cell_type": "markdown",
   "metadata": {},
   "source": [
    "## Libraries Required:\n",
    "1. BeautifulSoup:\n",
    "Beautiful Soup is a library that makes it easy to scrape information from web pages. It sits atop an HTML or XML parser, providing Pythonic idioms for iterating, searching, and modifying the parse tree.\n",
    "\n",
    "2. Requests:\n",
    "Requests is a Python module you can use to send all kinds of HTTP requests.\n",
    "\n",
    "3. Simple Mail Transfer Protocol(SMTP):\n",
    "Simple Mail Transfer Protocol (SMTP) is a protocol, which handles sending e-mail and routing e-mail between mail servers\n",
    "\n",
    "4. Pickle:\n",
    "Python pickle module is used for serializing and de-serializing a Python object structure. Any object in Python can be pickled so that it can be saved on disk.\n",
    "\n",
    "5. Counter:\n",
    "A Counter is a container that keeps track of how many times equivalent values are added. It can be used to implement the same algorithms for which bag or multiset data structures are commonly used in other languages. It is from collections library.\n",
    "\n",
    "6. Pylab:\n",
    "PyLab combines the numerical module numpy with the graphical plotting module pyplot. \n",
    "\n",
    "7. Matplotlib: \n",
    "Matplotlib is a Python 2D plotting library which produces publication quality figures in a variety of hardcopy formats and interactive environments across platforms.\n",
    "\n",
    "8. email.mime:\n",
    "The email package library for managing email messages. This library used to send email messages to SMTP.\n"
   ]
  },
  {
   "cell_type": "markdown",
   "metadata": {},
   "source": [
    "Importing Libraries:"
   ]
  },
  {
   "cell_type": "code",
   "execution_count": 1,
   "metadata": {},
   "outputs": [],
   "source": [
    "from bs4 import BeautifulSoup\n",
    "import requests,smtplib\n",
    "import pickle\n",
    "from collections import Counter\n",
    "from pylab import rcParams\n",
    "import matplotlib.pyplot as plt\n",
    "from email.mime.text import MIMEText\n",
    "from email.mime.multipart import MIMEMultipart\n",
    "# It makes the make your requests as legitimate\n",
    "headers = ({'User-Agent':'Mozilla/5.0 (Windows NT 6.1) AppleWebKit/537.36 (KHTML, like Gecko) Chrome/41.0.2228.0 Safari/537.36'})"
   ]
  },
  {
   "cell_type": "markdown",
   "metadata": {},
   "source": [
    "This function will get all the jobs URL's of each job to get all the jobs details."
   ]
  },
  {
   "cell_type": "code",
   "execution_count": 2,
   "metadata": {},
   "outputs": [],
   "source": [
    "def job_links():\n",
    "    list =[]\n",
    "   \n",
    "    url = \"https://agency.governmentjobs.com/nwmissouri/default.cfm?promotionaljobs=1\"\n",
    "    get_page = requests.get(url, headers=headers)\n",
    "    Page = BeautifulSoup(get_page.text, 'html.parser')\n",
    "    #print(Page)\n",
    "    list = Page.find_all('a',class_=\"jobtitle\")\n",
    "    links = []\n",
    "    count = 0   \n",
    "    for job in list:\n",
    "        try:\n",
    "        \n",
    "            page_url =\"https://agency.governmentjobs.com/nwmissouri/\"+job['href']\n",
    "            #print(page_url)\n",
    "            count = count + 1;\n",
    "            links.append(page_url)\n",
    "        except:\n",
    "                pass\n",
    "    return links;"
   ]
  },
  {
   "cell_type": "markdown",
   "metadata": {},
   "source": [
    "This function get the all the jobs details and compares current jobs with previous jobs. It returns new job details and dump the current job details in the pickle in place of previous job details."
   ]
  },
  {
   "cell_type": "code",
   "execution_count": 1,
   "metadata": {},
   "outputs": [],
   "source": [
    "def job_details(links):\n",
    " \n",
    "    old_job_titles = []\n",
    "    fresh_job_titles = []\n",
    "    fresh_job_departments = []\n",
    "    list_job_details = {\n",
    "               \"data\":[]\n",
    "                }\n",
    "    for url in links:\n",
    "        headers = ({'User-Agent':'Mozilla/5.0 (Windows NT 6.1) AppleWebKit/537.36 (KHTML, like Gecko) Chrome/41.0.2228.0 Safari/537.36'})\n",
    "        get_page = requests.get(url, headers=headers)\n",
    "        individual_job_page = BeautifulSoup(get_page.text, 'html.parser')\n",
    "        data = individual_job_page.find_all('table')\n",
    "        \n",
    "        details=[]\n",
    "        for d in data[1].findAll('td'):      \n",
    "            details.append((d.text).strip())\n",
    "            \n",
    "        job_details = {\n",
    "                \"Job Title\": details[0],\n",
    "                \"Opening Date/Time\": details[1],\n",
    "                \"Salary\": details[2],\n",
    "                \"Job Type\": details[3],\n",
    "                \"Location\": details[4],\n",
    "                \"Department\": details[5]\n",
    "                }\n",
    "        list_job_details['data'].append(job_details)\n",
    "    \n",
    "\n",
    "    old_job_titles = job_list();\n",
    "    \n",
    "    for d in list_job_details['data']:\n",
    "        title = d['Job Title'] \n",
    "        department = d['Department']\n",
    "        if(not old_job_titles.__contains__(title)):\n",
    "            fresh_job_titles.append(title)\n",
    "            fresh_job_departments.append(department)\n",
    "            \n",
    "\n",
    "    \n",
    "    with open('jobs.pkl', 'wb') as f:\n",
    "        pickle.dump(list_job_details,f,protocol=pickle.HIGHEST_PROTOCOL) \n",
    "    return(fresh_job_titles,fresh_job_departments)"
   ]
  },
  {
   "cell_type": "markdown",
   "metadata": {},
   "source": [
    "This function lists the previous jobs titles from jobs.pkl file. This list is used in the job_details function for comparison between the current job details and previous job details."
   ]
  },
  {
   "cell_type": "code",
   "execution_count": null,
   "metadata": {},
   "outputs": [],
   "source": [
    "def job_list():\n",
    "    jobs_titles = []\n",
    "    prev_list_job_details = {\n",
    "               \n",
    "                }\n",
    "    with open('jobs.pkl', 'rb') as f:        \n",
    "        sentences = pickle.load(f)\n",
    "        prev_list_job_details = sentences\n",
    "    if(len(prev_list_job_details)!=0):        \n",
    "        for l in prev_list_job_details['data']:\n",
    "            title = l['Job Title']\n",
    "            jobs_titles.append(title)\n",
    "    return jobs_titles"
   ]
  },
  {
   "cell_type": "markdown",
   "metadata": {},
   "source": [
    "This function plots the pie chart between the titles and departments.\n",
    "This shows \"How many jobs per department.\""
   ]
  },
  {
   "cell_type": "code",
   "execution_count": null,
   "metadata": {},
   "outputs": [],
   "source": [
    "def comparission():        \n",
    "        titles, departments = job_details(links)\n",
    "# Counter is a container that keeps track of how many times equivalent values are added and returns the dictionary\n",
    "        a = dict(Counter(departments))\n",
    "        def getKeys(a): \n",
    "            list_k = [] \n",
    "            for key in a.keys(): \n",
    "                list_k.append(key) \n",
    "                \n",
    "            return list_k\n",
    "            \n",
    "        def getValues(a): \n",
    "            list_v = [] \n",
    "            for value in a.values(): \n",
    "                list_v.append(value) \n",
    "                    \n",
    "            return list_v\n",
    "        keys = getKeys(a)\n",
    "        values = getValues(a)\n",
    "        matplotlib.rcParams.update({'font.size': 15})       \n",
    "        rcParams['figure.figsize'] = 11, 10\n",
    "        print(keys)\n",
    "        print(values)\n",
    "        plt.title('How many jobs per department')\n",
    "        fig = plt.figure()\n",
    "        plt.pie(values, labels=keys, startangle=90, autopct='%1.1f%%')\n",
    "        plt.axis('equal')  \n",
    "        plt.tight_layout()\n",
    "        plt.show()\n",
    "        fig.savefig('plot.png')  "
   ]
  },
  {
   "cell_type": "markdown",
   "metadata": {},
   "source": [
    "This function sends notifications by using the SMTP and email.meme libraries. I have used HTML code to represent the mail proper manner."
   ]
  },
  {
   "cell_type": "code",
   "execution_count": null,
   "metadata": {},
   "outputs": [],
   "source": [
    "def notification():    \n",
    "    titles, departments = job_details(links)\n",
    "    mailbody = \"\"\n",
    "    for title in titles:\n",
    "        mailbody += title +\"\\n\"\n",
    "    a = dict(Counter(departments))\n",
    "    def getKeys(a): \n",
    "        list_k = [] \n",
    "        for key in a.keys(): \n",
    "            list_k.append(key) \n",
    "                \n",
    "        return list_k\n",
    "            \n",
    "    def getValues(a): \n",
    "        list_v = [] \n",
    "        for value in a.values(): \n",
    "            list_v.append(value) \n",
    "                    \n",
    "        return list_v\n",
    "    keys = getKeys(a)\n",
    "    values = getValues(a)\n",
    "    \n",
    "    table_0 = \"\"\"</br></br></br><h2>Number of jobs per department</h2>\n",
    "    <tr><th>Departments </th><th>&nbsp; &nbsp; &nbsp; &nbsp; &nbsp; &nbsp; &nbsp; &nbsp; &nbsp; &nbsp; &nbsp; Number of Jobs Per Department</th></tr>\"\"\"\n",
    "    table_1 = \"\"\"</br></br></br></table>\"\"\"\n",
    "    table_data = \"\"\n",
    "    count = 0\n",
    "    for d in keys:\n",
    "        table_data += \"<tr><td>\"+d+ \"</td>\"+\"<td>\"+ str(values[int(count)]) + \"</td></tr>\"\n",
    "        count = count + 1\n",
    "    \n",
    "    for title in titles:\n",
    "        mailbody += \"<h5>\"+title +\"</h5>\" +\"\\n\"\n",
    "  \n",
    "    \n",
    "    sender_email = \"Enter Sender Email Id\"\n",
    "    receiver_email = \"Enter Receiver Email Id\"\n",
    "    password = \"Enter Sender Email Password\"\n",
    "    \n",
    "    message = MIMEMultipart(\"alternative\")\n",
    "    message[\"Subject\"] = \"multipart test\"\n",
    "    message[\"From\"] = sender_email\n",
    "    message[\"To\"] = receiver_email\n",
    "    \n",
    "    \n",
    "    # Create the plain-text and HTML version of your message\n",
    "   \n",
    "    \n",
    "    html_0 = \"\"\"\\\n",
    "        <html>\n",
    "        <body>\n",
    "        <h1 style= font-size= \"25px\", align=\"center\">Jobs updated in the Student Employment Opportunities Page</h1>\n",
    "        <h2>List of jobs<br></h2>\n",
    "        \"\"\"\n",
    "        \n",
    "    html_1 = \"\"\"\\ \n",
    "        </body>\n",
    "        </html>\n",
    "        \"\"\"\n",
    "    \n",
    "    \n",
    "    if(len(titles)!=0):\n",
    "        text = \"\"\"\\\n",
    "         Jobs updated in the Student Employment Opportunities Page\n",
    "        \"\"\"\n",
    "        html = html_0 + mailbody+\"</br></br></br>\"+ table_0 + table_1+ table_data + html_1\n",
    "        \n",
    "    else:\n",
    "        text = \"\"\"\\\n",
    "        Jobs does not updated\n",
    "        \"\"\"\n",
    "        html = \"\"\"\\\n",
    "        <html>\n",
    "        <body>\n",
    "        <h1 style= bgcolor=\"black\", font-size= \"25px\", align=\"center\">Jobs does not updated in the Student Employment Opportunities Page</h1>\n",
    "        </body>\n",
    "        </html>\n",
    "        \"\"\"\n",
    "    # Turn these into plain/html MIMEText objects\n",
    "    part1 = MIMEText(text, \"plain\")\n",
    "    part2 = MIMEText(html, \"html\")\n",
    "\n",
    "    # Add HTML/plain-text parts to MIMEMultipart message\n",
    "    # The email client will try to render the last part first\n",
    "    message.attach(part1)\n",
    "    message.attach(part2)\n",
    "\n",
    "    with smtplib.SMTP_SSL(\"smtp.gmail.com\", 465) as server:\n",
    "        server.login(sender_email, password)\n",
    "        server.sendmail(\n",
    "                sender_email, receiver_email, message.as_string()\n",
    "                )"
   ]
  },
  {
   "cell_type": "code",
   "execution_count": null,
   "metadata": {},
   "outputs": [],
   "source": [
    "# calling all the functions\n",
    "links = job_links()\n",
    "job_details(links)\n",
    "notification()\n",
    "comparission()"
   ]
  },
  {
   "cell_type": "markdown",
   "metadata": {},
   "source": [
    "Mail Screenshot when the jobs are updated"
   ]
  },
  {
   "cell_type": "markdown",
   "metadata": {},
   "source": [
    "![Jobs Updated](Jobs-Updated.PNG)"
   ]
  },
  {
   "cell_type": "markdown",
   "metadata": {},
   "source": [
    "Mail Screenshot when the Jobs are not updated "
   ]
  },
  {
   "cell_type": "markdown",
   "metadata": {},
   "source": [
    "![Jobs Not Updated](Jobs_not_updated.PNG)"
   ]
  },
  {
   "cell_type": "markdown",
   "metadata": {},
   "source": [
    "## Conclusion"
   ]
  },
  {
   "cell_type": "markdown",
   "metadata": {},
   "source": [
    "This application provides the solution to the people looking for new jobs regularly. They get the notifications and reduce their valuable amount of time by running application regularly it automates all the tasks.\n"
   ]
  },
  {
   "cell_type": "code",
   "execution_count": null,
   "metadata": {},
   "outputs": [],
   "source": []
  }
 ],
 "metadata": {
  "kernelspec": {
   "display_name": "Python 3 (Spyder)",
   "language": "python3",
   "name": "python3"
  },
  "language_info": {
   "codemirror_mode": {
    "name": "ipython",
    "version": 3
   },
   "file_extension": ".py",
   "mimetype": "text/x-python",
   "name": "python",
   "nbconvert_exporter": "python",
   "pygments_lexer": "ipython3",
   "version": "3.7.1"
  }
 },
 "nbformat": 4,
 "nbformat_minor": 2
}
